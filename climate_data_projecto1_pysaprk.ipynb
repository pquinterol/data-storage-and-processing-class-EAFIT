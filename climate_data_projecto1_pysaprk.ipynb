{
  "nbformat": 4,
  "nbformat_minor": 0,
  "metadata": {
    "colab": {
      "provenance": [],
      "collapsed_sections": []
    },
    "kernelspec": {
      "name": "python3",
      "display_name": "Python 3"
    },
    "language_info": {
      "name": "python"
    }
  },
  "cells": [
    {
      "cell_type": "markdown",
      "source": [
        "# Read Climate Data"
      ],
      "metadata": {
        "id": "YVLEIbgYHXri"
      }
    },
    {
      "cell_type": "code",
      "execution_count": null,
      "metadata": {
        "id": "Fv1mRqYbHKAg"
      },
      "outputs": [],
      "source": [
        "climate_data_url = \"<raw_climate_data_url>\"\n",
        "\n",
        "countries_climate_df = spark\\\n",
        ".read\\\n",
        ".format(\"csv\")\\\n",
        ".option(\"header\", \"true\")\\\n",
        ".option(\"treatEmptyValuesAsNulls\", \"true\")\\\n",
        ".option(\"inferSchema\", \"true\")\\\n",
        ".load(climate_data_url)"
      ]
    },
    {
      "cell_type": "code",
      "source": [
        "countries_climate_df.show(10)"
      ],
      "metadata": {
        "id": "GfpUK-m0HNay"
      },
      "execution_count": null,
      "outputs": []
    },
    {
      "cell_type": "markdown",
      "source": [
        "# Clean Data"
      ],
      "metadata": {
        "id": "YNeCWAZ9HSiS"
      }
    },
    {
      "cell_type": "code",
      "source": [
        "import pyspark.sql.functions as F\n",
        "\n",
        "cleaned_climate_data = countries_climate_df\\\n",
        ".withColumnRenamed(\"AverageTemperature\", \"avg_temp\")\\\n",
        ".withColumnRenamed(\"AverageTemperatureUncertainty\", \"avg_temp_uncertainty\")\\\n",
        ".withColumnRenamed(\"Country\", \"country\")\\\n",
        ".filter(F.col(\"AverageTemperature\").isNotNull() & F.col(\"AverageTemperatureUncertainty\").isNotNull())\\\n",
        ".withColumn(\"year\", F.year(\"dt\"))\\\n",
        ".withColumn(\"month\", F.month(\"dt\"))\\\n",
        ".drop(F.col(\"dt\"))\n",
        "\n",
        "cleaned_climate_data.show(10)"
      ],
      "metadata": {
        "id": "3EYHrhhrHRzS"
      },
      "execution_count": null,
      "outputs": []
    },
    {
      "cell_type": "markdown",
      "source": [
        "# Write to Transformed Layer"
      ],
      "metadata": {
        "id": "ZqbdqhuRHcAq"
      }
    },
    {
      "cell_type": "code",
      "source": [
        "cleaned_climate_data\\\n",
        ".coalesce(2)\\\n",
        ".write\\\n",
        ".format(\"parquet\")\\\n",
        ".partitionBy(\"month\")\\\n",
        ".mode(\"overwrite\")\\\n",
        ".save(\"<transformed_climate_data_url>\")\n",
        "\n"
      ],
      "metadata": {
        "id": "0uet6QI2Hhcp"
      },
      "execution_count": null,
      "outputs": []
    },
    {
      "cell_type": "markdown",
      "source": [
        "# Read From Transformed Layer"
      ],
      "metadata": {
        "id": "BnfdVoXlHnFB"
      }
    },
    {
      "cell_type": "code",
      "source": [
        "transformed_climate_data = spark\\\n",
        ".read\\\n",
        ".format(\"parquet\")\\\n",
        ".load(\"<transformed_climate_data_url>\")\n",
        "\n",
        "transformed_climate_data.show(20)"
      ],
      "metadata": {
        "id": "d2xeXTE3H5Si"
      },
      "execution_count": null,
      "outputs": []
    },
    {
      "cell_type": "markdown",
      "source": [
        "# Select the hottest historical months per country"
      ],
      "metadata": {
        "id": "OfqN1iLAH7xS"
      }
    },
    {
      "cell_type": "code",
      "source": [
        "hottest_months_per_countries_all_time = transformed_climate_data\\\n",
        ".groupBy(F.col(\"month\"), F.col(\"country\"))\\\n",
        ".agg(F.round(F.max(\"avg_temp\"), 2).alias(\"max_avg_temp\"))\\\n",
        ".orderBy(F.desc(\"max_avg_temp\"))\n",
        "\n",
        "hottest_months_per_countries_all_time.show(10)"
      ],
      "metadata": {
        "id": "CL1JDHA9IAZ7"
      },
      "execution_count": null,
      "outputs": []
    },
    {
      "cell_type": "markdown",
      "source": [
        "# Save Hottest Historical Months per Country to Trusted Layer"
      ],
      "metadata": {
        "id": "rMMBjl40ICpy"
      }
    },
    {
      "cell_type": "code",
      "source": [
        "hottest_months_per_countries_all_time\\\n",
        ".write\\\n",
        ".format(\"parquet\")\\\n",
        ".mode(\"overwrite\")\\\n",
        ".save(\"<trusted_climate_data_url>\")"
      ],
      "metadata": {
        "id": "VoFJ0w3QIKVB"
      },
      "execution_count": null,
      "outputs": []
    }
  ]
}